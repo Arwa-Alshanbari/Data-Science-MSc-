{
 "cells": [
  {
   "cell_type": "markdown",
   "id": "a891d90e",
   "metadata": {},
   "source": [
    "# Hypothesis_Testing\n",
    "A pharmaceutical company GlobalXYZ has just completed a randomized controlled drug trial. To promote transparency and reproducibility of the drug's outcome.\n",
    "\n",
    "The dataset provided contained five adverse effects, demographic data, vital signs, etc. \n",
    "\n",
    "The dataset was obtained from [Datacamps](https://app.datacamp.com/workspace/w/5676b52c-f920-4154-b278-a83efcf063a5/edit/drug_safety.csv). It contained five adverse effects: headache, abdominal pain, dyspepsia, upper respiratory infection, chronic obstructive airway disease (COAD), demographic data, vital signs, lab measures, etc. The ratio of drug observations to placebo observations is 2 to 1.\n"
   ]
  },
  {
   "cell_type": "markdown",
   "id": "f7651564",
   "metadata": {},
   "source": [
    "The question you are trying to determine the answer to is:\n",
    "\n",
    "Are there is a significant difference between the ages of the Drug and Placebo groups?\n",
    "\n",
    "You assume a 0.05 significance level, and use the following null and alternative hypotheses:\n",
    "\n",
    "> ***H0*** **There is no significant difference in ages between the Drug and Placebo groups.**\n",
    "\n",
    "> ***H1*** **There is a significant difference in ages between the Drug and Placebo groups.**"
   ]
  },
  {
   "cell_type": "code",
   "execution_count": 1,
   "id": "2e370268",
   "metadata": {},
   "outputs": [],
   "source": [
    "# import module\n",
    "import numpy as np\n",
    "import pandas as pd\n",
    "import matplotlib.pyplot as plt\n",
    "import scipy.stats as stats\n",
    "import seaborn as sns"
   ]
  },
  {
   "cell_type": "code",
   "execution_count": 2,
   "id": "121338e7",
   "metadata": {},
   "outputs": [
    {
     "data": {
      "text/html": [
       "<div>\n",
       "<style scoped>\n",
       "    .dataframe tbody tr th:only-of-type {\n",
       "        vertical-align: middle;\n",
       "    }\n",
       "\n",
       "    .dataframe tbody tr th {\n",
       "        vertical-align: top;\n",
       "    }\n",
       "\n",
       "    .dataframe thead th {\n",
       "        text-align: right;\n",
       "    }\n",
       "</style>\n",
       "<table border=\"1\" class=\"dataframe\">\n",
       "  <thead>\n",
       "    <tr style=\"text-align: right;\">\n",
       "      <th></th>\n",
       "      <th>age</th>\n",
       "      <th>sex</th>\n",
       "      <th>trx</th>\n",
       "      <th>week</th>\n",
       "      <th>wbc</th>\n",
       "      <th>rbc</th>\n",
       "      <th>adverse_effects</th>\n",
       "      <th>num_effects</th>\n",
       "    </tr>\n",
       "  </thead>\n",
       "  <tbody>\n",
       "    <tr>\n",
       "      <th>0</th>\n",
       "      <td>62</td>\n",
       "      <td>male</td>\n",
       "      <td>Drug</td>\n",
       "      <td>0</td>\n",
       "      <td>7.3</td>\n",
       "      <td>5.1</td>\n",
       "      <td>No</td>\n",
       "      <td>0</td>\n",
       "    </tr>\n",
       "    <tr>\n",
       "      <th>1</th>\n",
       "      <td>62</td>\n",
       "      <td>male</td>\n",
       "      <td>Drug</td>\n",
       "      <td>1</td>\n",
       "      <td>NaN</td>\n",
       "      <td>NaN</td>\n",
       "      <td>No</td>\n",
       "      <td>0</td>\n",
       "    </tr>\n",
       "    <tr>\n",
       "      <th>2</th>\n",
       "      <td>62</td>\n",
       "      <td>male</td>\n",
       "      <td>Drug</td>\n",
       "      <td>12</td>\n",
       "      <td>5.6</td>\n",
       "      <td>5.0</td>\n",
       "      <td>No</td>\n",
       "      <td>0</td>\n",
       "    </tr>\n",
       "    <tr>\n",
       "      <th>3</th>\n",
       "      <td>62</td>\n",
       "      <td>male</td>\n",
       "      <td>Drug</td>\n",
       "      <td>16</td>\n",
       "      <td>NaN</td>\n",
       "      <td>NaN</td>\n",
       "      <td>No</td>\n",
       "      <td>0</td>\n",
       "    </tr>\n",
       "    <tr>\n",
       "      <th>4</th>\n",
       "      <td>62</td>\n",
       "      <td>male</td>\n",
       "      <td>Drug</td>\n",
       "      <td>2</td>\n",
       "      <td>6.6</td>\n",
       "      <td>5.1</td>\n",
       "      <td>No</td>\n",
       "      <td>0</td>\n",
       "    </tr>\n",
       "  </tbody>\n",
       "</table>\n",
       "</div>"
      ],
      "text/plain": [
       "   age   sex   trx  week  wbc  rbc adverse_effects  num_effects\n",
       "0   62  male  Drug     0  7.3  5.1              No            0\n",
       "1   62  male  Drug     1  NaN  NaN              No            0\n",
       "2   62  male  Drug    12  5.6  5.0              No            0\n",
       "3   62  male  Drug    16  NaN  NaN              No            0\n",
       "4   62  male  Drug     2  6.6  5.1              No            0"
      ]
     },
     "execution_count": 2,
     "metadata": {},
     "output_type": "execute_result"
    }
   ],
   "source": [
    "# import dataset\n",
    "drug_safety = pd.read_csv('datasets/drug_safety.csv')\n",
    "drug_safety.head()"
   ]
  },
  {
   "cell_type": "code",
   "execution_count": 3,
   "id": "edcb78b2",
   "metadata": {},
   "outputs": [
    {
     "data": {
      "text/plain": [
       "age                   0\n",
       "sex                   0\n",
       "trx                   0\n",
       "week                  0\n",
       "wbc                6975\n",
       "rbc                6976\n",
       "adverse_effects       0\n",
       "num_effects           0\n",
       "dtype: int64"
      ]
     },
     "execution_count": 3,
     "metadata": {},
     "output_type": "execute_result"
    }
   ],
   "source": [
    "# check if there any missing value\n",
    "drug_safety.isnull().sum()"
   ]
  },
  {
   "cell_type": "code",
   "execution_count": 4,
   "id": "f9a4ede4",
   "metadata": {},
   "outputs": [
    {
     "data": {
      "text/plain": [
       "(16103, 8)"
      ]
     },
     "execution_count": 4,
     "metadata": {},
     "output_type": "execute_result"
    }
   ],
   "source": [
    "# check the shape of dataset\n",
    "drug_safety.shape"
   ]
  },
  {
   "cell_type": "code",
   "execution_count": 5,
   "id": "a55648d9",
   "metadata": {
    "scrolled": false
   },
   "outputs": [
    {
     "data": {
      "image/png": "[encoded data removed]",
      "text/plain": [
       "<Figure size 640x480 with 1 Axes>"
      ]
     },
     "metadata": {},
     "output_type": "display_data"
    }
   ],
   "source": [
    "# Check normality by plotting a histogram\n",
    "\n",
    "sns.histplot(data=drug_safety, x='age', hue='trx', kde=True)\n",
    "plt.show()"
   ]
  },
  {
   "cell_type": "markdown",
   "id": "8f393264",
   "metadata": {},
   "source": [
    "Since the our data is not normally distributed and, but if we are still not use about the normality we can use a **Shapiro-Wilk test** to check the normality of distribution."
   ]
  },
  {
   "cell_type": "code",
   "execution_count": 6,
   "id": "fb0e41b7",
   "metadata": {},
   "outputs": [],
   "source": [
    "# Filter the data\n",
    "age_drug = drug_safety[drug_safety['trx'] == 'Drug']['age']\n",
    "age_placebo = drug_safety[drug_safety['trx'] == 'Placebo']['age']"
   ]
  },
  {
   "cell_type": "code",
   "execution_count": 7,
   "id": "76f8f0f7",
   "metadata": {},
   "outputs": [
    {
     "name": "stdout",
     "output_type": "stream",
     "text": [
      "Drug Group. Data may not be approximately normally distributed.\n",
      "Placebo Group. Data may not be approximately normally distributed.\n"
     ]
    },
    {
     "name": "stderr",
     "output_type": "stream",
     "text": [
      "/Users/arwa/Applications/anaconda3/lib/python3.11/site-packages/scipy/stats/_morestats.py:1816: UserWarning: p-value may not be accurate for N > 5000.\n",
      "  warnings.warn(\"p-value may not be accurate for N > 5000.\")\n"
     ]
    }
   ],
   "source": [
    "# Shapiro-Wilk test\n",
    "stat_drug, p_value_drug = stats.shapiro(age_drug)\n",
    "stat_placebo, p_value_placebo = stats.shapiro(age_placebo)\n",
    "\n",
    "# Check if the data may be approximately normally distributed\n",
    "alpha = 0.05\n",
    "if p_value_drug > alpha:\n",
    "    print('Drug Group. Data may be approximately normally distributed.')\n",
    "else:\n",
    "    print('Drug Group. Data may not be approximately normally distributed.')\n",
    "\n",
    "if p_value_placebo > alpha:\n",
    "    print('Placebo Group. Data may be approximately normally distributed.')\n",
    "else:\n",
    "    print('Placebo Group. Data may not be approximately normally distributed.')"
   ]
  },
  {
   "cell_type": "markdown",
   "id": "fdd0c472",
   "metadata": {},
   "source": [
    "Now let's comparing two independent samples from populations by using a non-parametric test: **The Wilcoxon-Mann-Whitney (WMW) test**"
   ]
  },
  {
   "cell_type": "code",
   "execution_count": 8,
   "id": "8b21d0cc",
   "metadata": {},
   "outputs": [],
   "source": [
    "# Perform a right-tailed Wilcoxon-Mann-Whitney (WMW) test\n",
    "\n",
    "t_statistic, p_value = stats.mannwhitneyu(age_drug, age_placebo)"
   ]
  },
  {
   "cell_type": "code",
   "execution_count": 9,
   "id": "7963b401",
   "metadata": {},
   "outputs": [
    {
     "data": {
      "text/plain": [
       "(29149339.5, 0.25696267004066287)"
      ]
     },
     "execution_count": 9,
     "metadata": {},
     "output_type": "execute_result"
    }
   ],
   "source": [
    "t_statistic, p_value"
   ]
  },
  {
   "cell_type": "markdown",
   "id": "18c4b0c4",
   "metadata": {},
   "source": [
    "The test result shows that the t value is `29149339.5`. This is a standardized metric that reveals the deviation of the sample mean from the null hypothesis. The p value is what gives us our final answer. Our p-value is telling us how often our result would appear by chance. \n",
    "\n",
    "We are interested in how our p-value compares to our significance level:\n",
    "\n",
    "> • If the p-value is less than the significance level, then we can reject the null hypothesis\n",
    "\n",
    "> • If the p-value is greater than the significance level, then we failed to reject the null hypothesis"
   ]
  },
  {
   "cell_type": "code",
   "execution_count": 10,
   "id": "8fd8728d",
   "metadata": {},
   "outputs": [
    {
     "name": "stdout",
     "output_type": "stream",
     "text": [
      "Fail to reject the Null Hypothesis\n"
     ]
    }
   ],
   "source": [
    "if p_value <= alpha:\n",
    "    result = print(\"Reject the Null Hypothesis\")\n",
    "else:\n",
    "    result = print(\"Fail to reject the Null Hypothesis\")"
   ]
  },
  {
   "cell_type": "markdown",
   "id": "10d7db9e",
   "metadata": {},
   "source": [
    "So, when **`p_value` > 0.05** (our chosen significance level), which means that we may reject our null hypothesis in favor for the alternative. \n",
    "\n",
    "This mean there is not a significant difference in ages between the Drug and Placebo groups based on the chosen significance level."
   ]
  },
  {
   "cell_type": "code",
   "execution_count": null,
   "id": "08dde363",
   "metadata": {},
   "outputs": [],
   "source": []
  }
 ],
 "metadata": {
  "kernelspec": {
   "display_name": "Python 3 (ipykernel)",
   "language": "python",
   "name": "python3"
  },
  "language_info": {
   "codemirror_mode": {
    "name": "ipython",
    "version": 3
   },
   "file_extension": ".py",
   "mimetype": "text/x-python",
   "name": "python",
   "nbconvert_exporter": "python",
   "pygments_lexer": "ipython3",
   "version": "3.11.4"
  }
 },
 "nbformat": 4,
 "nbformat_minor": 5
}
